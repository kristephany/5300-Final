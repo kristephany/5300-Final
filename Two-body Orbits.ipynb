{
 "cells": [
  {
   "cell_type": "markdown",
   "metadata": {},
   "source": [
    "# Two-Body Gravitational Orbits\n",
    "Uses an Orbit class and Lagrange Equations to describe the motion of two orbitting bodies"
   ]
  },
  {
   "cell_type": "markdown",
   "metadata": {},
   "source": [
    "## Lagrange Equation\n",
    "The Lagrangian for the two-body system is:\n",
    "\n",
    "$\\begin{align}\n",
    "  \\mathcal{L} = \\frac12 m_1 \\dot x_1^2 + \\frac12 m_1 \\dot y_1^2 + \\frac12 m_2 \\dot x_2^2 + \\frac12 m_2 \\dot y_2^2 - \\frac{G m_1 m_2}{r^2}\n",
    "\\end{align}$\n",
    "\n",
    "## Euler Lagrange Equations\n",
    "The Euler-Lagrange is:\n",
    "\n",
    "$\\begin{align}\n",
    " r = [(x_1 - x_2)^2 + (y_1 - y_2)]^\\frac12\n",
    "\\end{align}$\n",
    "\n",
    "$\\begin{align}\n",
    " \\frac{d}{dt}\\frac{\\partial\\mathcal{L}}{\\partial \\dot x_1} = \\frac{\\partial\\mathcal L}{\\partial x_1}\n",
    " \\quad\\Longrightarrow\\quad\n",
    " \\ddot x_1 = \\frac{-G m_2 (x_1 - x_2)}{r^3}\n",
    "\\end{align}$\n",
    "\n",
    "$\\begin{align}\n",
    " \\frac{d}{dt}\\frac{\\partial\\mathcal{L}}{\\partial \\dot x_2} = \\frac{\\partial\\mathcal L}{\\partial x_2}\n",
    " \\quad\\Longrightarrow\\quad\n",
    " \\ddot x_2 = \\frac{G m_1 (x_1 - x_2)}{r^3}\n",
    "\\end{align}$\n",
    "\n",
    "$\\begin{align}\n",
    " \\frac{d}{dt}\\frac{\\partial\\mathcal{L}}{\\partial \\dot y_1} = \\frac{\\partial\\mathcal L}{\\partial y_1}\n",
    " \\quad\\Longrightarrow\\quad\n",
    " \\ddot y_1 = \\frac{-G m_2 (y_1 - y_2)}{r^3}\n",
    "\\end{align}$\n",
    "\n",
    "$\\begin{align}\n",
    " \\frac{d}{dt}\\frac{\\partial\\mathcal{L}}{\\partial \\dot y_2} = \\frac{\\partial\\mathcal L}{\\partial y_2}\n",
    " \\quad\\Longrightarrow\\quad\n",
    " \\ddot y_2 = \\frac{G m_1 (y_1 - y_2)}{r^3}\n",
    "\\end{align}$\n",
    "\n",
    "Now we can make our orbits!"
   ]
  },
  {
   "cell_type": "code",
   "execution_count": 1,
   "metadata": {},
   "outputs": [],
   "source": [
    "%matplotlib inline\n",
    "\n",
    "import numpy as np\n",
    "\n",
    "import matplotlib.pyplot as plt\n",
    "from scipy.integrate import odeint, solve_ivp"
   ]
  },
  {
   "cell_type": "code",
   "execution_count": 2,
   "metadata": {},
   "outputs": [],
   "source": [
    "class Orbit():\n",
    "    \"\"\"\n",
    "    This class uses Lagrange Equations to create two bodies in orbit\n",
    "    Parameters:\n",
    "    G is the gravitational constant\n",
    "    m1, m2 are the masses of the bodies respectively\n",
    "    \"\"\"\n",
    "    def __init__(self, G = 1., m1 = 1., m2 = 1.):\n",
    "        \n",
    "        self.G = G\n",
    "        self.m1 = m1\n",
    "        self.m2 = m2\n",
    "        \n",
    "        \n",
    "    def dy_dt(self, t, y):\n",
    "        \"\"\"\n",
    "        This function returns the right hand side of the differential equation:\n",
    "        [dx_1_dot/dt, dx1_double_dot/dt, dx2_dot/dt, dx2_double_dot/dt, \n",
    "        dy1_dot/dt, dy1_double_dot/dt, dy2_dot/dt, dy2_double_dot/dt]\n",
    "        \n",
    "        Parameters:\n",
    "        y[0] = x1\n",
    "        y[1] = x1_dot\n",
    "        y[2] = x2\n",
    "        y[3] = x2_dot\n",
    "        y[4] = y1\n",
    "        y[5] = y1_dot\n",
    "        y[6] = y2\n",
    "        y[7] = y2_dot\n",
    "        \"\"\"\n",
    "        \n",
    "        x1, x1_dot, x2, x2_dot, y1, y1_dot, y2, y2_dot = y\n",
    "        r = (((x1-x2)**2) + ((y1-y2)**2))**0.5\n",
    "\n",
    "        \n",
    "        x1_dot = x1_dot\n",
    "        x2_dot = x2_dot\n",
    "        y1_dot = y1_dot\n",
    "        y2_dot = y2_dot\n",
    "        \n",
    "        x1_double_dot = -self.G*self.m2*(x1-x2) / r**3\n",
    "        x2_double_dot = self.G*self.m1*(x1-x2) / r**3\n",
    "        y1_double_dot = -self.G*self.m2*(y1-y2) / r**3\n",
    "        y2_double_dot = self.G*self.m1*(y1-y2) / r**3\n",
    "        \n",
    "        return x1_dot, x1_double_dot, x2_dot, x2_double_dot, y1_dot, y1_double_dot, y2_dot, y2_double_dot\n",
    "        \n",
    "        \n",
    "    def Lagrange():\n",
    "        \"\"\"\n",
    "        This function is just to show the Lagrangian that was \n",
    "        used for the other functions.\n",
    "        \"\"\"\n",
    "\n",
    "        T = (0.5*self.m1*x1_dot**2) + (0.5*self.m1*y1_dot**2) + (0.5*self.m2*x2_dot**2) + (0.5*self.m2*y2_dot**2)\n",
    "        \n",
    "        U = -(self.G * self.m1 * self.m2) / r**2\n",
    "        \n",
    "        \n",
    "    def solve_ode(self, t_pts, x1_0, x1_dot_0, x2_0, x2_dot_0, y1_0, y1_dot_0, y2_0, y2_dot_0, abserr=1.0e-9, relerr=1.0e-9):\n",
    "        \"\"\"\n",
    "        Solve the ODE given initial conditions.\n",
    "        Specify smaller abserr and relerr to get more precision.\n",
    "        \"\"\"\n",
    "        y = [x1_0, x1_dot_0, x2_0, x2_dot_0, y1_0, y1_dot_0, y2_0, y2_dot_0] \n",
    "        solution = solve_ivp(self.dy_dt, (t_pts[0], t_pts[-1]), \n",
    "                             y, t_eval=t_pts, \n",
    "                             atol=abserr, rtol=relerr)\n",
    "        x1, x1_dot, x2, x2_dot, y1, y1_dot, y2, y2_dot = solution.y\n",
    "\n",
    "        return x1, x1_dot, x2, x2_dot, y1, y1_dot, y2, y2_dot"
   ]
  },
  {
   "cell_type": "code",
   "execution_count": 3,
   "metadata": {},
   "outputs": [],
   "source": [
    "def plot_y_vs_x(x, y, axis_labels=None, label=None, title=None, \n",
    "                color=None, linestyle=None, semilogy=False, loglog=False,\n",
    "                ax=None):\n",
    "    \"\"\"\n",
    "    Generic plotting function: return a figure axis with a plot of y vs. x,\n",
    "    with line color and style, title, axis labels, and line label\n",
    "    \"\"\"\n",
    "    if ax is None:        # if the axis object doesn't exist, make one\n",
    "        ax = plt.gca()\n",
    "\n",
    "    if (semilogy):\n",
    "        line, = ax.semilogy(x, y, label=label, \n",
    "                            color=color, linestyle=linestyle)\n",
    "    elif (loglog):\n",
    "        line, = ax.loglog(x, y, label=label, \n",
    "                          color=color, linestyle=linestyle)\n",
    "    else:\n",
    "        line, = ax.plot(x, y, label=label, \n",
    "                    color=color, linestyle=linestyle)\n",
    "\n",
    "    if label is not None:    # if a label if passed, show the legend\n",
    "        ax.legend()\n",
    "    if title is not None:    # set a title if one if passed\n",
    "        ax.set_title(title)\n",
    "    if axis_labels is not None:  # set x-axis and y-axis labels if passed  \n",
    "        ax.set_xlabel(axis_labels[0])\n",
    "        ax.set_ylabel(axis_labels[1])\n",
    "\n",
    "    return ax, line"
   ]
  },
  {
   "cell_type": "code",
   "execution_count": 4,
   "metadata": {},
   "outputs": [],
   "source": [
    "def start_stop_indices(t_pts, plot_start, plot_stop):\n",
    "    start_index = (np.fabs(t_pts-plot_start)).argmin()  # index in t_pts array \n",
    "    stop_index = (np.fabs(t_pts-plot_stop)).argmin()  # index in t_pts array \n",
    "    return start_index, stop_index"
   ]
  },
  {
   "cell_type": "code",
   "execution_count": 5,
   "metadata": {},
   "outputs": [],
   "source": [
    "#Labels and conditions\n",
    "x_vs_y_labels = (r'$x$', r'$y$')\n",
    "\n",
    "t_start = 0.\n",
    "t_end = 500.\n",
    "delta_t = 0.01\n",
    "\n",
    "t_pts = np.arange(t_start, t_end+delta_t, delta_t)  \n",
    "\n",
    "G = 1.\n",
    "m1 = 10.\n",
    "m2 = 10.\n",
    "\n",
    "#make the orbit \n",
    "O1 = Orbit(G=G, m1=m1, m2=m2)"
   ]
  },
  {
   "cell_type": "code",
   "execution_count": 6,
   "metadata": {},
   "outputs": [
    {
     "data": {
      "text/plain": [
       "(<matplotlib.axes._subplots.AxesSubplot at 0x277fa9c70f0>,\n",
       " <matplotlib.lines.Line2D at 0x277fd0c6828>)"
      ]
     },
     "execution_count": 6,
     "metadata": {},
     "output_type": "execute_result"
    },
    {
     "data": {
      "image/png": "[encoded data removed]",
      "text/plain": [
       "<Figure size 1440x720 with 1 Axes>"
      ]
     },
     "metadata": {
      "needs_background": "light"
     },
     "output_type": "display_data"
    }
   ],
   "source": [
    "#setting initial conditions\n",
    "x1_0= -2.5\n",
    "x1_dot_0 = -0.5\n",
    "x2_0 = 1.5\n",
    "x2_dot_0 = -(m1/m2) * x1_dot_0\n",
    "y1_0 = 0.0\n",
    "y1_dot_0 = 1.0\n",
    "y2_0 = -1.5\n",
    "y2_dot_0 = -(m1/m2) * y1_dot_0\n",
    "x1, x1_dot, x2, x2_dot, y1, y1_dot, y2, y2_dot = O1.solve_ode(t_pts, x1_0, x1_dot_0, x2_0, x2_dot_0, y1_0, y1_dot_0, y2_0, y2_dot_0)\n",
    "\n",
    "\n",
    "#plotting\n",
    "fig = plt.figure(figsize=(20,10))\n",
    "overall_title = 'Orbit from Lagrangian:  '\n",
    "fig.suptitle(overall_title, va='baseline')\n",
    "    \n",
    "#x vs y plot \n",
    "ax_a = fig.add_subplot(1,2,2)                  \n",
    "\n",
    "start, stop = start_stop_indices(t_pts, t_start, t_end)    \n",
    "plot_y_vs_x(x1[start : stop], y1[start : stop],\n",
    "            axis_labels=x_vs_y_labels,\n",
    "            color='blue',\n",
    "            label=None, \n",
    "            title=r'$orbit$', \n",
    "            ax=ax_a)  \n",
    "plot_y_vs_x(x2[start : stop], y2[start : stop],\n",
    "            axis_labels=x_vs_y_labels,\n",
    "            color='red',\n",
    "            label=None, \n",
    "            title=r'$orbit$', \n",
    "            ax=ax_a)"
   ]
  },
  {
   "cell_type": "markdown",
   "metadata": {},
   "source": [
    "We can see two bodies orbiting another in this plot. Incredible!"
   ]
  },
  {
   "cell_type": "markdown",
   "metadata": {},
   "source": [
    "## Two bodies m1>>m2\n",
    "Let's take a look at something where one mass is much greater than the other, thus, it should not move very much."
   ]
  },
  {
   "cell_type": "code",
   "execution_count": 15,
   "metadata": {},
   "outputs": [],
   "source": [
    "#conditions for second plot\n",
    "x_vs_y_labels = (r'$x$', r'$y$')\n",
    "\n",
    "t_start = 0.\n",
    "t_end = 500.\n",
    "delta_t = 0.01\n",
    "\n",
    "t_pts = np.arange(t_start, t_end+delta_t, delta_t)  \n",
    "\n",
    "G = 1.\n",
    "m1 = 1000. #mass 1 is much greater than mass 2\n",
    "m2 = 10.\n",
    "\n",
    "#make the orbit \n",
    "O1 = Orbit(G=G, m1=m1, m2=m2)"
   ]
  },
  {
   "cell_type": "code",
   "execution_count": 16,
   "metadata": {},
   "outputs": [
    {
     "data": {
      "text/plain": [
       "(<matplotlib.axes._subplots.AxesSubplot at 0x277fd02f550>,\n",
       " <matplotlib.lines.Line2D at 0x277fd02f828>)"
      ]
     },
     "execution_count": 16,
     "metadata": {},
     "output_type": "execute_result"
    },
    {
     "data": {
      "image/png": "[encoded data removed]",
      "text/plain": [
       "<Figure size 1440x720 with 1 Axes>"
      ]
     },
     "metadata": {
      "needs_background": "light"
     },
     "output_type": "display_data"
    }
   ],
   "source": [
    "#initial conditions for second plot\n",
    "x1_0= -1.5\n",
    "x1_dot_0 = 0.01\n",
    "x2_0 = 1.5\n",
    "x2_dot_0 = -(m1/m2) * x1_dot_0\n",
    "y1_0 = 0.0\n",
    "y1_dot_0 = 0.1\n",
    "y2_0 = -2.5\n",
    "y2_dot_0 = -(m1/m2) * y1_dot_0\n",
    "x1, x1_dot, x2, x2_dot, y1, y1_dot, y2, y2_dot = O1.solve_ode(t_pts, x1_0, x1_dot_0, x2_0, x2_dot_0, y1_0, y1_dot_0, y2_0, y2_dot_0)\n",
    "\n",
    "\n",
    "#plotting\n",
    "fig = plt.figure(figsize=(20,10))\n",
    "overall_title = 'Orbit from Lagrangian with vastly different masses:  '\n",
    "fig.suptitle(overall_title, va='baseline')\n",
    "    \n",
    "# first plot: theta vs time plot \n",
    "ax_a = fig.add_subplot(1,2,2)                  \n",
    "\n",
    "start, stop = start_stop_indices(t_pts, t_start, t_end)    \n",
    "plot_y_vs_x(x1[start : stop], y1[start : stop],\n",
    "            axis_labels=x_vs_y_labels,\n",
    "            color='blue',\n",
    "            label=None, \n",
    "            title=r'$orbit$', \n",
    "            ax=ax_a)  \n",
    "plot_y_vs_x(x2[start : stop], y2[start : stop],\n",
    "            axis_labels=x_vs_y_labels,\n",
    "            color='red',\n",
    "            label=None, \n",
    "            title=r'$orbit$', \n",
    "            ax=ax_a)"
   ]
  },
  {
   "cell_type": "markdown",
   "metadata": {},
   "source": [
    "Here we can see our smaller mass orbiting around our larger mass. While the larger mass is still technically moving, its' movements are so much smaller compared to the smaller mass that they are hard to see on this plot. This is somewhat comparitive to the earth-sun relation."
   ]
  },
  {
   "cell_type": "code",
   "execution_count": null,
   "metadata": {},
   "outputs": [],
   "source": []
  }
 ],
 "metadata": {
  "kernelspec": {
   "display_name": "Python 3",
   "language": "python",
   "name": "python3"
  },
  "language_info": {
   "codemirror_mode": {
    "name": "ipython",
    "version": 3
   },
   "file_extension": ".py",
   "mimetype": "text/x-python",
   "name": "python",
   "nbconvert_exporter": "python",
   "pygments_lexer": "ipython3",
   "version": "3.7.1"
  }
 },
 "nbformat": 4,
 "nbformat_minor": 2
}
